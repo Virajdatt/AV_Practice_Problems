{
 "cells": [
  {
   "cell_type": "markdown",
   "metadata": {},
   "source": [
    "## Brief note on the Problem Statment\n",
    "* Task : - <b>Imbalanced Classification (is_promoted[0,1])</b>\n",
    "\n",
    "<p>Your client is a large MNC and they have 9 broad verticals across the organisation. One of the problem your client is facing is around identifying the right people for promotion (only for manager position and below) and prepare them in time. Currently the process, they are following is:</p>\n",
    "\n",
    "1. They first identify a set of employees based on recommendations/ past performance Selected employees go through the separate training and evaluation program for each vertical. These programs are based on the required skill of each vertical\n",
    "\n",
    "2. At the end of the program, based on various factors such as training performance, KPI completion (only employees with KPIs completed greater than 60% are considered) etc., employee gets promotion\n"
   ]
  },
  {
   "cell_type": "markdown",
   "metadata": {},
   "source": [
    "## Hypothesis on the approach and breif description on some thoughts"
   ]
  },
  {
   "cell_type": "markdown",
   "metadata": {},
   "source": []
  },
  {
   "cell_type": "code",
   "execution_count": 1,
   "metadata": {
    "collapsed": true
   },
   "outputs": [],
   "source": [
    "import pandas as pd\n",
    "import matplotlib.pyplot as plt"
   ]
  },
  {
   "cell_type": "code",
   "execution_count": 14,
   "metadata": {
    "collapsed": true
   },
   "outputs": [],
   "source": [
    "raw_data = pd.read_csv(\"./train_LZdllcl.csv\")"
   ]
  },
  {
   "cell_type": "code",
   "execution_count": 15,
   "metadata": {},
   "outputs": [
    {
     "data": {
      "text/html": [
       "<div>\n",
       "<style>\n",
       "    .dataframe thead tr:only-child th {\n",
       "        text-align: right;\n",
       "    }\n",
       "\n",
       "    .dataframe thead th {\n",
       "        text-align: left;\n",
       "    }\n",
       "\n",
       "    .dataframe tbody tr th {\n",
       "        vertical-align: top;\n",
       "    }\n",
       "</style>\n",
       "<table border=\"1\" class=\"dataframe\">\n",
       "  <thead>\n",
       "    <tr style=\"text-align: right;\">\n",
       "      <th></th>\n",
       "      <th>employee_id</th>\n",
       "      <th>department</th>\n",
       "      <th>region</th>\n",
       "      <th>education</th>\n",
       "      <th>gender</th>\n",
       "      <th>recruitment_channel</th>\n",
       "      <th>no_of_trainings</th>\n",
       "      <th>age</th>\n",
       "      <th>previous_year_rating</th>\n",
       "      <th>length_of_service</th>\n",
       "      <th>KPIs_met &gt;80%</th>\n",
       "      <th>awards_won?</th>\n",
       "      <th>avg_training_score</th>\n",
       "      <th>is_promoted</th>\n",
       "    </tr>\n",
       "  </thead>\n",
       "  <tbody>\n",
       "    <tr>\n",
       "      <th>0</th>\n",
       "      <td>65438</td>\n",
       "      <td>Sales &amp; Marketing</td>\n",
       "      <td>region_7</td>\n",
       "      <td>Master's &amp; above</td>\n",
       "      <td>f</td>\n",
       "      <td>sourcing</td>\n",
       "      <td>1</td>\n",
       "      <td>35</td>\n",
       "      <td>5.0</td>\n",
       "      <td>8</td>\n",
       "      <td>1</td>\n",
       "      <td>0</td>\n",
       "      <td>49</td>\n",
       "      <td>0</td>\n",
       "    </tr>\n",
       "    <tr>\n",
       "      <th>1</th>\n",
       "      <td>65141</td>\n",
       "      <td>Operations</td>\n",
       "      <td>region_22</td>\n",
       "      <td>Bachelor's</td>\n",
       "      <td>m</td>\n",
       "      <td>other</td>\n",
       "      <td>1</td>\n",
       "      <td>30</td>\n",
       "      <td>5.0</td>\n",
       "      <td>4</td>\n",
       "      <td>0</td>\n",
       "      <td>0</td>\n",
       "      <td>60</td>\n",
       "      <td>0</td>\n",
       "    </tr>\n",
       "    <tr>\n",
       "      <th>2</th>\n",
       "      <td>7513</td>\n",
       "      <td>Sales &amp; Marketing</td>\n",
       "      <td>region_19</td>\n",
       "      <td>Bachelor's</td>\n",
       "      <td>m</td>\n",
       "      <td>sourcing</td>\n",
       "      <td>1</td>\n",
       "      <td>34</td>\n",
       "      <td>3.0</td>\n",
       "      <td>7</td>\n",
       "      <td>0</td>\n",
       "      <td>0</td>\n",
       "      <td>50</td>\n",
       "      <td>0</td>\n",
       "    </tr>\n",
       "    <tr>\n",
       "      <th>3</th>\n",
       "      <td>2542</td>\n",
       "      <td>Sales &amp; Marketing</td>\n",
       "      <td>region_23</td>\n",
       "      <td>Bachelor's</td>\n",
       "      <td>m</td>\n",
       "      <td>other</td>\n",
       "      <td>2</td>\n",
       "      <td>39</td>\n",
       "      <td>1.0</td>\n",
       "      <td>10</td>\n",
       "      <td>0</td>\n",
       "      <td>0</td>\n",
       "      <td>50</td>\n",
       "      <td>0</td>\n",
       "    </tr>\n",
       "  </tbody>\n",
       "</table>\n",
       "</div>"
      ],
      "text/plain": [
       "   employee_id         department     region         education gender  \\\n",
       "0        65438  Sales & Marketing   region_7  Master's & above      f   \n",
       "1        65141         Operations  region_22        Bachelor's      m   \n",
       "2         7513  Sales & Marketing  region_19        Bachelor's      m   \n",
       "3         2542  Sales & Marketing  region_23        Bachelor's      m   \n",
       "\n",
       "  recruitment_channel  no_of_trainings  age  previous_year_rating  \\\n",
       "0            sourcing                1   35                   5.0   \n",
       "1               other                1   30                   5.0   \n",
       "2            sourcing                1   34                   3.0   \n",
       "3               other                2   39                   1.0   \n",
       "\n",
       "   length_of_service  KPIs_met >80%  awards_won?  avg_training_score  \\\n",
       "0                  8              1            0                  49   \n",
       "1                  4              0            0                  60   \n",
       "2                  7              0            0                  50   \n",
       "3                 10              0            0                  50   \n",
       "\n",
       "   is_promoted  \n",
       "0            0  \n",
       "1            0  \n",
       "2            0  \n",
       "3            0  "
      ]
     },
     "execution_count": 15,
     "metadata": {},
     "output_type": "execute_result"
    }
   ],
   "source": [
    "raw_data.head(4)"
   ]
  },
  {
   "cell_type": "code",
   "execution_count": 16,
   "metadata": {},
   "outputs": [
    {
     "data": {
      "text/plain": [
       "Index(['employee_id', 'department', 'region', 'education', 'gender',\n",
       "       'recruitment_channel', 'no_of_trainings', 'age', 'previous_year_rating',\n",
       "       'length_of_service', 'KPIs_met >80%', 'awards_won?',\n",
       "       'avg_training_score', 'is_promoted'],\n",
       "      dtype='object')"
      ]
     },
     "execution_count": 16,
     "metadata": {},
     "output_type": "execute_result"
    }
   ],
   "source": [
    "raw_data.columns"
   ]
  },
  {
   "cell_type": "markdown",
   "metadata": {},
   "source": [
    "## EDA and Breif notes on the findings!"
   ]
  },
  {
   "cell_type": "code",
   "execution_count": 17,
   "metadata": {},
   "outputs": [
    {
     "data": {
      "text/plain": [
       "0    50140\n",
       "1     4668\n",
       "Name: is_promoted, dtype: int64"
      ]
     },
     "execution_count": 17,
     "metadata": {},
     "output_type": "execute_result"
    }
   ],
   "source": [
    "raw_data.is_promoted.value_counts()"
   ]
  },
  {
   "cell_type": "code",
   "execution_count": 18,
   "metadata": {},
   "outputs": [
    {
     "data": {
      "text/plain": [
       "employee_id                0\n",
       "department                 0\n",
       "region                     0\n",
       "education               2409\n",
       "gender                     0\n",
       "recruitment_channel        0\n",
       "no_of_trainings            0\n",
       "age                        0\n",
       "previous_year_rating    4124\n",
       "length_of_service          0\n",
       "KPIs_met >80%              0\n",
       "awards_won?                0\n",
       "avg_training_score         0\n",
       "is_promoted                0\n",
       "dtype: int64"
      ]
     },
     "execution_count": 18,
     "metadata": {},
     "output_type": "execute_result"
    }
   ],
   "source": [
    "raw_data.isnull().sum()"
   ]
  },
  {
   "cell_type": "code",
   "execution_count": 19,
   "metadata": {},
   "outputs": [
    {
     "data": {
      "text/plain": [
       "Bachelor's          36669\n",
       "Master's & above    14925\n",
       "Below Secondary       805\n",
       "Name: education, dtype: int64"
      ]
     },
     "execution_count": 19,
     "metadata": {},
     "output_type": "execute_result"
    }
   ],
   "source": [
    "raw_data.education.value_counts()"
   ]
  },
  {
   "cell_type": "code",
   "execution_count": 20,
   "metadata": {},
   "outputs": [],
   "source": [
    "#filling missing education value with mode\n",
    "raw_data['education'] = raw_data['education'].fillna(\"Bachelor's\")"
   ]
  },
  {
   "cell_type": "code",
   "execution_count": 21,
   "metadata": {},
   "outputs": [
    {
     "data": {
      "text/plain": [
       "employee_id                0\n",
       "department                 0\n",
       "region                     0\n",
       "education                  0\n",
       "gender                     0\n",
       "recruitment_channel        0\n",
       "no_of_trainings            0\n",
       "age                        0\n",
       "previous_year_rating    4124\n",
       "length_of_service          0\n",
       "KPIs_met >80%              0\n",
       "awards_won?                0\n",
       "avg_training_score         0\n",
       "is_promoted                0\n",
       "dtype: int64"
      ]
     },
     "execution_count": 21,
     "metadata": {},
     "output_type": "execute_result"
    }
   ],
   "source": [
    "raw_data.isnull().sum()"
   ]
  },
  {
   "cell_type": "code",
   "execution_count": 23,
   "metadata": {},
   "outputs": [],
   "source": [
    "##filling previous_year_rating value with mode\n",
    "raw_data['previous_year_rating'] = raw_data['previous_year_rating'].fillna(3)"
   ]
  },
  {
   "cell_type": "code",
   "execution_count": 25,
   "metadata": {},
   "outputs": [
    {
     "data": {
      "text/plain": [
       "employee_id             0\n",
       "department              0\n",
       "region                  0\n",
       "education               0\n",
       "gender                  0\n",
       "recruitment_channel     0\n",
       "no_of_trainings         0\n",
       "age                     0\n",
       "previous_year_rating    0\n",
       "length_of_service       0\n",
       "KPIs_met >80%           0\n",
       "awards_won?             0\n",
       "avg_training_score      0\n",
       "is_promoted             0\n",
       "dtype: int64"
      ]
     },
     "execution_count": 25,
     "metadata": {},
     "output_type": "execute_result"
    }
   ],
   "source": [
    "raw_data.isnull().sum()"
   ]
  },
  {
   "cell_type": "code",
   "execution_count": 26,
   "metadata": {
    "collapsed": true
   },
   "outputs": [],
   "source": [
    "from sklearn import model_selection"
   ]
  },
  {
   "cell_type": "code",
   "execution_count": 27,
   "metadata": {
    "collapsed": true
   },
   "outputs": [],
   "source": [
    "feature_list1 = ['department', 'region', 'education', 'gender',\n",
    "       'recruitment_channel', 'no_of_trainings', 'age', 'previous_year_rating',\n",
    "       'length_of_service', 'KPIs_met >80%', 'awards_won?',\n",
    "       'avg_training_score']"
   ]
  },
  {
   "cell_type": "code",
   "execution_count": 30,
   "metadata": {},
   "outputs": [
    {
     "data": {
      "text/plain": [
       "department               object\n",
       "region                   object\n",
       "education                object\n",
       "gender                   object\n",
       "recruitment_channel      object\n",
       "no_of_trainings           int64\n",
       "age                       int64\n",
       "previous_year_rating    float64\n",
       "length_of_service         int64\n",
       "KPIs_met >80%             int64\n",
       "awards_won?               int64\n",
       "avg_training_score        int64\n",
       "dtype: object"
      ]
     },
     "execution_count": 30,
     "metadata": {},
     "output_type": "execute_result"
    }
   ],
   "source": [
    "raw_data[feature_list1].dtypes"
   ]
  },
  {
   "cell_type": "code",
   "execution_count": 31,
   "metadata": {},
   "outputs": [
    {
     "data": {
      "text/html": [
       "<div>\n",
       "<style>\n",
       "    .dataframe thead tr:only-child th {\n",
       "        text-align: right;\n",
       "    }\n",
       "\n",
       "    .dataframe thead th {\n",
       "        text-align: left;\n",
       "    }\n",
       "\n",
       "    .dataframe tbody tr th {\n",
       "        vertical-align: top;\n",
       "    }\n",
       "</style>\n",
       "<table border=\"1\" class=\"dataframe\">\n",
       "  <thead>\n",
       "    <tr style=\"text-align: right;\">\n",
       "      <th></th>\n",
       "      <th>department</th>\n",
       "      <th>region</th>\n",
       "      <th>education</th>\n",
       "      <th>gender</th>\n",
       "      <th>recruitment_channel</th>\n",
       "      <th>no_of_trainings</th>\n",
       "      <th>age</th>\n",
       "      <th>previous_year_rating</th>\n",
       "      <th>length_of_service</th>\n",
       "      <th>KPIs_met &gt;80%</th>\n",
       "      <th>awards_won?</th>\n",
       "      <th>avg_training_score</th>\n",
       "    </tr>\n",
       "  </thead>\n",
       "  <tbody>\n",
       "    <tr>\n",
       "      <th>0</th>\n",
       "      <td>Sales &amp; Marketing</td>\n",
       "      <td>region_7</td>\n",
       "      <td>Master's &amp; above</td>\n",
       "      <td>f</td>\n",
       "      <td>sourcing</td>\n",
       "      <td>1</td>\n",
       "      <td>35</td>\n",
       "      <td>5.0</td>\n",
       "      <td>8</td>\n",
       "      <td>1</td>\n",
       "      <td>0</td>\n",
       "      <td>49</td>\n",
       "    </tr>\n",
       "    <tr>\n",
       "      <th>1</th>\n",
       "      <td>Operations</td>\n",
       "      <td>region_22</td>\n",
       "      <td>Bachelor's</td>\n",
       "      <td>m</td>\n",
       "      <td>other</td>\n",
       "      <td>1</td>\n",
       "      <td>30</td>\n",
       "      <td>5.0</td>\n",
       "      <td>4</td>\n",
       "      <td>0</td>\n",
       "      <td>0</td>\n",
       "      <td>60</td>\n",
       "    </tr>\n",
       "    <tr>\n",
       "      <th>2</th>\n",
       "      <td>Sales &amp; Marketing</td>\n",
       "      <td>region_19</td>\n",
       "      <td>Bachelor's</td>\n",
       "      <td>m</td>\n",
       "      <td>sourcing</td>\n",
       "      <td>1</td>\n",
       "      <td>34</td>\n",
       "      <td>3.0</td>\n",
       "      <td>7</td>\n",
       "      <td>0</td>\n",
       "      <td>0</td>\n",
       "      <td>50</td>\n",
       "    </tr>\n",
       "  </tbody>\n",
       "</table>\n",
       "</div>"
      ],
      "text/plain": [
       "          department     region         education gender recruitment_channel  \\\n",
       "0  Sales & Marketing   region_7  Master's & above      f            sourcing   \n",
       "1         Operations  region_22        Bachelor's      m               other   \n",
       "2  Sales & Marketing  region_19        Bachelor's      m            sourcing   \n",
       "\n",
       "   no_of_trainings  age  previous_year_rating  length_of_service  \\\n",
       "0                1   35                   5.0                  8   \n",
       "1                1   30                   5.0                  4   \n",
       "2                1   34                   3.0                  7   \n",
       "\n",
       "   KPIs_met >80%  awards_won?  avg_training_score  \n",
       "0              1            0                  49  \n",
       "1              0            0                  60  \n",
       "2              0            0                  50  "
      ]
     },
     "execution_count": 31,
     "metadata": {},
     "output_type": "execute_result"
    }
   ],
   "source": [
    "raw_data[feature_list1].head(3)"
   ]
  },
  {
   "cell_type": "code",
   "execution_count": 34,
   "metadata": {},
   "outputs": [
    {
     "data": {
      "text/plain": [
       "1     44378\n",
       "2      7987\n",
       "3      1776\n",
       "4       468\n",
       "5       128\n",
       "6        44\n",
       "7        12\n",
       "10        5\n",
       "9         5\n",
       "8         5\n",
       "Name: no_of_trainings, dtype: int64"
      ]
     },
     "execution_count": 34,
     "metadata": {},
     "output_type": "execute_result"
    }
   ],
   "source": [
    "raw_data['no_of_trainings'].value_counts()"
   ]
  },
  {
   "cell_type": "code",
   "execution_count": 39,
   "metadata": {},
   "outputs": [
    {
     "name": "stdout",
     "output_type": "stream",
     "text": [
      "          department  is_promoted\n",
      "0          Analytics     0.095665\n",
      "1            Finance     0.081230\n",
      "2                 HR     0.056245\n",
      "3              Legal     0.051011\n",
      "4         Operations     0.090148\n",
      "5        Procurement     0.096386\n",
      "6                R&D     0.069069\n",
      "7  Sales & Marketing     0.072031\n",
      "8         Technology     0.107593\n",
      "------------------------------ \n",
      "\n",
      "       region  is_promoted\n",
      "0    region_1     0.095082\n",
      "1   region_10     0.078704\n",
      "2   region_11     0.056274\n",
      "3   region_12     0.066000\n",
      "4   region_13     0.086858\n",
      "5   region_14     0.074970\n",
      "6   region_15     0.079060\n",
      "7   region_16     0.069625\n",
      "8   region_17     0.136935\n",
      "9   region_18     0.032258\n",
      "10  region_19     0.060641\n",
      "11   region_2     0.080126\n",
      "12  region_20     0.057647\n",
      "13  region_21     0.043796\n",
      "14  region_22     0.114188\n",
      "15  region_23     0.116596\n",
      "16  region_24     0.035433\n",
      "17  region_25     0.125763\n",
      "18  region_26     0.063274\n",
      "19  region_27     0.078963\n",
      "20  region_28     0.116844\n",
      "21  region_29     0.043260\n",
      "22   region_3     0.106936\n",
      "23  region_30     0.089802\n",
      "24  region_31     0.056848\n",
      "25  region_32     0.042328\n",
      "26  region_33     0.037175\n",
      "27  region_34     0.027397\n",
      "28   region_4     0.144451\n",
      "29   region_5     0.045692\n",
      "30   region_6     0.046377\n",
      "31   region_7     0.106546\n",
      "32   region_8     0.080916\n",
      "33   region_9     0.019048\n",
      "------------------------------ \n",
      "\n",
      "          education  is_promoted\n",
      "0        Bachelor's     0.080096\n",
      "1   Below Secondary     0.083230\n",
      "2  Master's & above     0.098559\n",
      "------------------------------ \n",
      "\n",
      "  gender  is_promoted\n",
      "0      f     0.089934\n",
      "1      m     0.083151\n",
      "------------------------------ \n",
      "\n",
      "  recruitment_channel  is_promoted\n",
      "0               other     0.083952\n",
      "1            referred     0.120841\n",
      "2            sourcing     0.085013\n",
      "------------------------------ \n",
      "\n",
      "   no_of_trainings  is_promoted\n",
      "0                1     0.088107\n",
      "1                2     0.075748\n",
      "2                3     0.068694\n",
      "3                4     0.055556\n",
      "4                5     0.023438\n",
      "5                6     0.045455\n",
      "6                7     0.000000\n",
      "7                8     0.000000\n",
      "8                9     0.000000\n",
      "9               10     0.000000\n",
      "------------------------------ \n",
      "\n",
      "    age  is_promoted\n",
      "0    20     0.035398\n",
      "1    21     0.051020\n",
      "2    22     0.077922\n",
      "3    23     0.079439\n",
      "4    24     0.082840\n",
      "5    25     0.053118\n",
      "6    26     0.079126\n",
      "7    27     0.092324\n",
      "8    28     0.097871\n",
      "9    29     0.086344\n",
      "10   30     0.088404\n",
      "11   31     0.087719\n",
      "12   32     0.084041\n",
      "13   33     0.099377\n",
      "14   34     0.092978\n",
      "15   35     0.104390\n",
      "16   36     0.082638\n",
      "17   37     0.084988\n",
      "18   38     0.095684\n",
      "19   39     0.094985\n",
      "20   40     0.076368\n",
      "21   41     0.080683\n",
      "22   42     0.079199\n",
      "23   43     0.077621\n",
      "24   44     0.082645\n",
      "25   45     0.063158\n",
      "26   46     0.061693\n",
      "27   47     0.048474\n",
      "28   48     0.078995\n",
      "29   49     0.074830\n",
      "30   50     0.059501\n",
      "31   51     0.087404\n",
      "32   52     0.079772\n",
      "33   53     0.038462\n",
      "34   54     0.076677\n",
      "35   55     0.061224\n",
      "36   56     0.079545\n",
      "37   57     0.021008\n",
      "38   58     0.075117\n",
      "39   59     0.081340\n",
      "40   60     0.064516\n",
      "------------------------------ \n",
      "\n",
      "    length_of_service  is_promoted\n",
      "0                   1     0.082912\n",
      "1                   2     0.089019\n",
      "2                   3     0.086592\n",
      "3                   4     0.087478\n",
      "4                   5     0.081447\n",
      "5                   6     0.084706\n",
      "6                   7     0.083589\n",
      "7                   8     0.093306\n",
      "8                   9     0.087105\n",
      "9                  10     0.093023\n",
      "10                 11     0.104803\n",
      "11                 12     0.079345\n",
      "12                 13     0.078603\n",
      "13                 14     0.052823\n",
      "14                 15     0.072513\n",
      "15                 16     0.074818\n",
      "16                 17     0.060185\n",
      "17                 18     0.063776\n",
      "18                 19     0.097264\n",
      "19                 20     0.078125\n",
      "20                 21     0.051282\n",
      "21                 22     0.098361\n",
      "22                 23     0.107692\n",
      "23                 24     0.000000\n",
      "24                 25     0.039216\n",
      "25                 26     0.000000\n",
      "26                 27     0.027778\n",
      "27                 28     0.066667\n",
      "28                 29     0.100000\n",
      "29                 30     0.000000\n",
      "30                 31     0.000000\n",
      "31                 32     0.200000\n",
      "32                 33     0.000000\n",
      "33                 34     0.250000\n",
      "34                 37     0.000000\n",
      "------------------------------ \n",
      "\n",
      "   KPIs_met >80%  is_promoted\n",
      "0              0     0.039587\n",
      "1              1     0.169094\n",
      "------------------------------ \n",
      "\n",
      "   awards_won?  is_promoted\n",
      "0            0     0.076749\n",
      "1            1     0.440157\n",
      "------------------------------ \n",
      "\n",
      "    avg_training_score  is_promoted\n",
      "0                   39     0.000000\n",
      "1                   40     0.000000\n",
      "2                   41     0.038462\n",
      "3                   42     0.032258\n",
      "4                   43     0.039773\n",
      "5                   44     0.029851\n",
      "6                   45     0.045521\n",
      "7                   46     0.031690\n",
      "8                   47     0.045246\n",
      "9                   48     0.039393\n",
      "10                  49     0.037300\n",
      "11                  50     0.041237\n",
      "12                  51     0.043886\n",
      "13                  52     0.038793\n",
      "14                  53     0.033233\n",
      "15                  54     0.049147\n",
      "16                  55     0.053899\n",
      "17                  56     0.064486\n",
      "18                  57     0.057063\n",
      "19                  58     0.068493\n",
      "20                  59     0.070252\n",
      "21                  60     0.064037\n",
      "22                  61     0.077701\n",
      "23                  62     0.080690\n",
      "24                  63     0.092067\n",
      "25                  64     0.114407\n",
      "26                  65     0.108514\n",
      "27                  66     0.091379\n",
      "28                  67     0.101648\n",
      "29                  68     0.082353\n",
      "..                 ...          ...\n",
      "31                  70     0.116588\n",
      "32                  71     0.120267\n",
      "33                  72     0.118621\n",
      "34                  73     0.112811\n",
      "35                  74     0.170901\n",
      "36                  75     0.121588\n",
      "37                  76     0.091085\n",
      "38                  77     0.093257\n",
      "39                  78     0.094319\n",
      "40                  79     0.072414\n",
      "41                  80     0.099502\n",
      "42                  81     0.109801\n",
      "43                  82     0.104354\n",
      "44                  83     0.106010\n",
      "45                  84     0.102740\n",
      "46                  85     0.097948\n",
      "47                  86     0.131579\n",
      "48                  87     0.128244\n",
      "49                  88     0.184685\n",
      "50                  89     0.279070\n",
      "51                  90     0.427027\n",
      "52                  91     0.649573\n",
      "53                  92     0.818182\n",
      "54                  93     0.892857\n",
      "55                  94     0.969231\n",
      "56                  95     1.000000\n",
      "57                  96     0.979167\n",
      "58                  97     1.000000\n",
      "59                  98     1.000000\n",
      "60                  99     1.000000\n",
      "\n",
      "[61 rows x 2 columns]\n",
      "------------------------------ \n",
      "\n"
     ]
    }
   ],
   "source": [
    "for x in feature_list1:\n",
    "    if raw_data[x].dtype!='float64':\n",
    "        #print(df_raw[[x,Target[0]]].groupby(x, as_index = False).mean())\n",
    "        print(raw_data[[x,'is_promoted']].groupby(x, as_index = False).mean())\n",
    "        print(\"-\"*30,\"\\n\")"
   ]
  },
  {
   "cell_type": "code",
   "execution_count": 36,
   "metadata": {},
   "outputs": [
    {
     "data": {
      "text/plain": [
       "0.08517004816815063"
      ]
     },
     "execution_count": 36,
     "metadata": {},
     "output_type": "execute_result"
    }
   ],
   "source": [
    "    data['FareBin'] = pd.qcut(data['Fare'], 4)\n"
   ]
  },
  {
   "cell_type": "code",
   "execution_count": 40,
   "metadata": {},
   "outputs": [
    {
     "data": {
      "text/plain": [
       "0         (28.0, 36.0]\n",
       "1         (28.0, 36.0]\n",
       "2         (28.0, 36.0]\n",
       "3         (36.0, 44.0]\n",
       "4         (44.0, 52.0]\n",
       "5         (28.0, 36.0]\n",
       "6         (28.0, 36.0]\n",
       "7         (28.0, 36.0]\n",
       "8        (19.96, 28.0]\n",
       "9         (28.0, 36.0]\n",
       "10        (28.0, 36.0]\n",
       "11        (28.0, 36.0]\n",
       "12        (44.0, 52.0]\n",
       "13        (36.0, 44.0]\n",
       "14        (36.0, 44.0]\n",
       "15        (36.0, 44.0]\n",
       "16        (36.0, 44.0]\n",
       "17        (28.0, 36.0]\n",
       "18        (28.0, 36.0]\n",
       "19        (36.0, 44.0]\n",
       "20        (28.0, 36.0]\n",
       "21        (36.0, 44.0]\n",
       "22       (19.96, 28.0]\n",
       "23       (19.96, 28.0]\n",
       "24        (36.0, 44.0]\n",
       "25       (19.96, 28.0]\n",
       "26        (28.0, 36.0]\n",
       "27        (28.0, 36.0]\n",
       "28        (28.0, 36.0]\n",
       "29       (19.96, 28.0]\n",
       "             ...      \n",
       "54778     (28.0, 36.0]\n",
       "54779     (28.0, 36.0]\n",
       "54780     (36.0, 44.0]\n",
       "54781     (36.0, 44.0]\n",
       "54782    (19.96, 28.0]\n",
       "54783    (19.96, 28.0]\n",
       "54784     (36.0, 44.0]\n",
       "54785     (28.0, 36.0]\n",
       "54786     (28.0, 36.0]\n",
       "54787    (19.96, 28.0]\n",
       "54788    (19.96, 28.0]\n",
       "54789     (28.0, 36.0]\n",
       "54790     (44.0, 52.0]\n",
       "54791     (28.0, 36.0]\n",
       "54792     (52.0, 60.0]\n",
       "54793     (28.0, 36.0]\n",
       "54794     (36.0, 44.0]\n",
       "54795     (28.0, 36.0]\n",
       "54796     (28.0, 36.0]\n",
       "54797    (19.96, 28.0]\n",
       "54798     (36.0, 44.0]\n",
       "54799     (44.0, 52.0]\n",
       "54800     (28.0, 36.0]\n",
       "54801     (28.0, 36.0]\n",
       "54802     (28.0, 36.0]\n",
       "54803     (44.0, 52.0]\n",
       "54804     (36.0, 44.0]\n",
       "54805    (19.96, 28.0]\n",
       "54806     (28.0, 36.0]\n",
       "54807    (19.96, 28.0]\n",
       "Name: age, Length: 54808, dtype: category\n",
       "Categories (5, interval[float64]): [(19.96, 28.0] < (28.0, 36.0] < (36.0, 44.0] < (44.0, 52.0] < (52.0, 60.0]]"
      ]
     },
     "execution_count": 40,
     "metadata": {},
     "output_type": "execute_result"
    }
   ],
   "source": [
    "pd.cut(raw_data['age'].astype(int), 5)"
   ]
  },
  {
   "cell_type": "code",
   "execution_count": 41,
   "metadata": {},
   "outputs": [
    {
     "data": {
      "text/plain": [
       "20"
      ]
     },
     "execution_count": 41,
     "metadata": {},
     "output_type": "execute_result"
    }
   ],
   "source": [
    "raw_data['age'].min()"
   ]
  },
  {
   "cell_type": "code",
   "execution_count": 46,
   "metadata": {},
   "outputs": [
    {
     "data": {
      "text/plain": [
       "30    3665\n",
       "31    3534\n",
       "32    3534\n",
       "29    3405\n",
       "33    3210\n",
       "28    3147\n",
       "34    3076\n",
       "27    2827\n",
       "35    2711\n",
       "36    2517\n",
       "37    2165\n",
       "26    2060\n",
       "38    1923\n",
       "39    1695\n",
       "40    1663\n",
       "25    1299\n",
       "41    1289\n",
       "42    1149\n",
       "43     992\n",
       "44     847\n",
       "24     845\n",
       "45     760\n",
       "46     697\n",
       "47     557\n",
       "48     557\n",
       "50     521\n",
       "49     441\n",
       "23     428\n",
       "51     389\n",
       "53     364\n",
       "52     351\n",
       "54     313\n",
       "55     294\n",
       "56     264\n",
       "57     238\n",
       "22     231\n",
       "60     217\n",
       "58     213\n",
       "59     209\n",
       "20     113\n",
       "21      98\n",
       "Name: age, dtype: int64"
      ]
     },
     "execution_count": 46,
     "metadata": {},
     "output_type": "execute_result"
    }
   ],
   "source": [
    "raw_data['age'].value_counts()"
   ]
  },
  {
   "cell_type": "code",
   "execution_count": null,
   "metadata": {
    "collapsed": true
   },
   "outputs": [],
   "source": []
  }
 ],
 "metadata": {
  "kernelspec": {
   "display_name": "Python 3",
   "language": "python",
   "name": "python3"
  },
  "language_info": {
   "codemirror_mode": {
    "name": "ipython",
    "version": 3
   },
   "file_extension": ".py",
   "mimetype": "text/x-python",
   "name": "python",
   "nbconvert_exporter": "python",
   "pygments_lexer": "ipython3",
   "version": "3.6.3"
  }
 },
 "nbformat": 4,
 "nbformat_minor": 2
}
